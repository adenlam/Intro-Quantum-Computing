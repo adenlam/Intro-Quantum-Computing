{
 "cells": [
  {
   "cell_type": "markdown",
   "metadata": {},
   "source": [
    "# To Do\n",
    "\n",
    "\n"
   ]
  },
  {
   "cell_type": "markdown",
   "metadata": {},
   "source": [
    "# The Harmonic Oscillator\n",
    "\n",
    "<font color='red'> include some preliminary stuff here on the harmonic oscillator</font>\n",
    "\n",
    "## Time evolution\n",
    "For this evolution, we will start by setting $m = 1$, $\\omega = 1$, and $\\hbar = 1$. \n",
    "\n",
    "As with the tunneling experiment with the wells and barriers, we will use the Suzuki-Trotter formula and approxmiate the time evolution. Again, let $H = K + V$, where $ K= p^2/2$ and $V = x^2/2$. Thus, we have:\n",
    "\n",
    "$$ e^{iH\\Delta t} = e^{i(K+V)\\Delta t} \\approx e^{iK \\Delta t}e^{iV \\Delta t}$$\n",
    "\n",
    "\n",
    "## Discretization\n",
    "\n",
    "Position and momentum are continuous. In order to simulate the dynamics, we discretize the momentum and position of the harmonic oscillator. \n",
    "\n",
    "<img src=\"QHO Images/position op.png\">\n",
    "\n",
    "<font color='red'> I don't quite understand how this operator is created.</font> "
   ]
  },
  {
   "cell_type": "code",
   "execution_count": null,
   "metadata": {},
   "outputs": [],
   "source": []
  },
  {
   "cell_type": "code",
   "execution_count": null,
   "metadata": {},
   "outputs": [],
   "source": []
  },
  {
   "cell_type": "code",
   "execution_count": null,
   "metadata": {},
   "outputs": [],
   "source": []
  },
  {
   "cell_type": "markdown",
   "metadata": {},
   "source": [
    "# References \n",
    " -1 https://arxiv.org/pdf/0709.1704.pdf\n",
    " \n",
    " -2 https://arxiv.org/pdf/1906.01436.pdf (driven SHO, no tunelling)\n",
    " \n",
    " -3 https://www.osti.gov/servlets/purl/1619265\n",
    " \n",
    " -4 https://www.researchgate.net/publication/334680969_Quantum_Simulation_of_Discretized_Harmonic_Oscillator_on_IBM_Quantum_Computer (Tunneling)\n",
    " \n",
    " -5 https://arxiv.org/pdf/1503.06319.pdf"
   ]
  },
  {
   "cell_type": "code",
   "execution_count": null,
   "metadata": {},
   "outputs": [],
   "source": []
  }
 ],
 "metadata": {
  "kernelspec": {
   "display_name": "Python 3",
   "language": "python",
   "name": "python3"
  },
  "language_info": {
   "codemirror_mode": {
    "name": "ipython",
    "version": 3
   },
   "file_extension": ".py",
   "mimetype": "text/x-python",
   "name": "python",
   "nbconvert_exporter": "python",
   "pygments_lexer": "ipython3",
   "version": "3.7.7"
  }
 },
 "nbformat": 4,
 "nbformat_minor": 4
}
