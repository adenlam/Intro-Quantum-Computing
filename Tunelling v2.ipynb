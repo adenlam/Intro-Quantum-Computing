{
 "cells": [
  {
   "cell_type": "markdown",
   "metadata": {},
   "source": [
    "# Quantum Tunelling Implementation\n",
    "\n",
    "This notebook will start with the simple case of two qubits. Note that this means we have $n=2$, so we have discretized the space into $2^2 = 4$ sections: $|00 \\rangle, |01 \\rangle, |10 \\rangle, |11 \\rangle$.  "
   ]
  },
  {
   "cell_type": "code",
   "execution_count": 1,
   "metadata": {},
   "outputs": [
    {
     "name": "stdout",
     "output_type": "stream",
     "text": [
      "{'qiskit-terra': '0.14.1', 'qiskit-aer': '0.5.2', 'qiskit-ignis': '0.3.0', 'qiskit-ibmq-provider': '0.7.2', 'qiskit-aqua': '0.7.1', 'qiskit': '0.19.3'}\n"
     ]
    }
   ],
   "source": [
    "import numpy as np\n",
    "import numpy.linalg as la\n",
    "import math as m\n",
    "from qiskit import QuantumCircuit, QuantumRegister, ClassicalRegister, execute, BasicAer, IBMQ\n",
    "from qiskit.visualization import plot_histogram, plot_bloch_multivector\n",
    "from qiskit.extensions import Initialize\n",
    "#from qiskit_textbook.tools import random_state, array_to_latex # This import isn't working for me\n",
    "\n",
    "import qiskit\n",
    "print(qiskit.__qiskit_version__)"
   ]
  },
  {
   "cell_type": "markdown",
   "metadata": {},
   "source": [
    "# Aden's Notes\n",
    "\n",
    "(The following image is taken from Aden's slides)\n",
    "\n",
    "Our goal is the produce the following gate into a circuit:\n",
    "\n",
    "<img src=\"Tunelling Images/kinetic gate.png\">\n",
    "\n",
    "\n",
    "The matrix above represents our kinetic time evolution operator once we are in the QFTed basis. This kinetic term can be broken down into the following gates.\n",
    "\n",
    "<img src=\"Tunelling Images/gates.png\">\n",
    "\n",
    "Note that the first and the last block of gates is simply the quantum fourier transforms and inverses.\n",
    "\n",
    "**Although Qiskit does numbering in the opposite order (0 on the top row, then 1, then 2, etc.) I will follow this picture exactly.**\n",
    "\n",
    "<img src=\"Tunelling Images/3 decomp.png\">\n",
    "\n",
    "\n",
    "<img src=\"Tunelling Images/D gate.png\">\n",
    "\n",
    "We will first try the case with $\\Delta t = 1/\\pi \\approx 0.318$. Then, we can use the values given above"
   ]
  },
  {
   "cell_type": "code",
   "execution_count": 34,
   "metadata": {},
   "outputs": [],
   "source": [
    "#I will start by defining functions for the quantum fourier transform (and inverse), potential, and D term\n",
    "# in the image above, 1 -> 1, and 2 -> 0\n",
    "\n",
    "# Setting th parameters for the system\n",
    "delta_t = 1 / 5\n",
    "theta1 = -m.pi*m.pi*delta_t\n",
    "theta2 = -m.pi*m.pi*delta_t/4\n",
    "theta3 = m.pi*m.pi*delta_t\n",
    "\n",
    "def F(qc):\n",
    "    qc.h(1)\n",
    "    qc.cu1(m.pi/2, 0, 1)\n",
    "    qc.h(0)\n",
    "    qc.barrier()\n",
    "    return qc\n",
    "\n",
    "def F_inv(qc):\n",
    "    qc.h(0)\n",
    "    qc.cu1(-m.pi/2, 0, 1)\n",
    "    qc.h(1)\n",
    "    qc.barrier()\n",
    "    return qc    \n",
    "\n",
    "def D(qc, theta1, theta2, theta3):\n",
    "    qc.rz(theta1, 0)\n",
    "    qc.rz(theta2, 1)\n",
    "    qc.cu1(theta3, 1,0)\n",
    "    qc.barrier()\n",
    "    return qc\n",
    "    \n"
   ]
  },
  {
   "cell_type": "code",
   "execution_count": 35,
   "metadata": {},
   "outputs": [
    {
     "data": {
      "text/html": [
       "<pre style=\"word-wrap: normal;white-space: pre;background: #fff0;line-height: 1.1;font-family: &quot;Courier New&quot;,Courier,monospace\">                  ┌───┐ ░ ┌─────────────┐           ░ ┌───┐              ░ ┌─┐»\n",
       "q9_0: ──────■─────┤ H ├─░─┤ RZ(-1.9739) ├──■────────░─┤ H ├─■────────────░─┤M├»\n",
       "      ┌───┐ │pi/2 └───┘ ░ ├─────────────┴┐ │1.9739  ░ └───┘ │-pi/2 ┌───┐ ░ └╥┘»\n",
       "q9_1: ┤ H ├─■───────────░─┤ RZ(-0.49348) ├─■────────░───────■──────┤ H ├─░──╫─»\n",
       "      └───┘             ░ └──────────────┘          ░              └───┘ ░  ║ »\n",
       "c9_0: ══════════════════════════════════════════════════════════════════════╩═»\n",
       "                                                                              »\n",
       "c9_1: ════════════════════════════════════════════════════════════════════════»\n",
       "                                                                              »\n",
       "«         \n",
       "«q9_0: ───\n",
       "«      ┌─┐\n",
       "«q9_1: ┤M├\n",
       "«      └╥┘\n",
       "«c9_0: ═╬═\n",
       "«       ║ \n",
       "«c9_1: ═╩═\n",
       "«         </pre>"
      ],
      "text/plain": [
       "                  ┌───┐ ░ ┌─────────────┐           ░ ┌───┐              ░ ┌─┐»\n",
       "q9_0: ──────■─────┤ H ├─░─┤ RZ(-1.9739) ├──■────────░─┤ H ├─■────────────░─┤M├»\n",
       "      ┌───┐ │pi/2 └───┘ ░ ├─────────────┴┐ │1.9739  ░ └───┘ │-pi/2 ┌───┐ ░ └╥┘»\n",
       "q9_1: ┤ H ├─■───────────░─┤ RZ(-0.49348) ├─■────────░───────■──────┤ H ├─░──╫─»\n",
       "      └───┘             ░ └──────────────┘          ░              └───┘ ░  ║ »\n",
       "c9_0: ══════════════════════════════════════════════════════════════════════╩═»\n",
       "                                                                              »\n",
       "c9_1: ════════════════════════════════════════════════════════════════════════»\n",
       "                                                                              »\n",
       "«         \n",
       "«q9_0: ───\n",
       "«      ┌─┐\n",
       "«q9_1: ┤M├\n",
       "«      └╥┘\n",
       "«c9_0: ═╬═\n",
       "«       ║ \n",
       "«c9_1: ═╩═\n",
       "«         "
      ]
     },
     "execution_count": 35,
     "metadata": {},
     "output_type": "execute_result"
    }
   ],
   "source": [
    "# Using Aden's notes, I will try a free particle simulation\n",
    "\n",
    "# Initializing the circuit\n",
    "qr = QuantumRegister(2) #the qubits needed\n",
    "cr = ClassicalRegister(2) #for the measurement\n",
    "qc = QuantumCircuit(qr, cr) #creating the quantum circuit\n",
    "\n",
    "F(qc)\n",
    "D(qc, theta1, theta2, theta3)\n",
    "F_inv(qc)\n",
    "qc.measure( qr , cr )\n",
    "\n",
    "qc.draw()"
   ]
  },
  {
   "cell_type": "code",
   "execution_count": 36,
   "metadata": {},
   "outputs": [
    {
     "data": {
      "image/png": "[encoded data removed]",
      "text/plain": [
       "<Figure size 504x360 with 1 Axes>"
      ]
     },
     "execution_count": 36,
     "metadata": {},
     "output_type": "execute_result"
    }
   ],
   "source": [
    "\n",
    "backend = BasicAer.get_backend('qasm_simulator') #'statevector_simulator' doesn't seem to return the right result\n",
    "counts = execute(qc, backend, shots=1024).result().get_counts()\n",
    "\n",
    "\"\"\"\n",
    "vector = np.zeros(len(counts))\n",
    "\n",
    "ordering = {'00': 0, '01': 1, '10':2, '11':3}\n",
    "for key in counts.keys():\n",
    "    print(key) #printing the key to check the order\n",
    "    vector[ordering[key]] = counts[key]\n",
    "    \n",
    "vector = vector / 1024\n",
    "print(vector)\n",
    "\n",
    "density_matrix = np.outer(vector, vector)\n",
    "print(density_matrix)\n",
    "\"\"\"\n",
    "\n",
    "plot_histogram(counts)"
   ]
  },
  {
   "cell_type": "markdown",
   "metadata": {},
   "source": [
    "## Implementing V\n",
    "\n",
    "We will now try to implent a potential operator. Recall that:\n",
    "\n",
    "$$ R_\\phi = \\begin{bmatrix} 1 & 0 \\\\ 0 & e^{i\\phi}\\end{bmatrix} $$\n",
    "\n",
    "We know that we can write the potential operator as:\n",
    "\n",
    "<img src=\"Tunelling Images/V gate.png\">\n",
    "\n",
    "Consider the operation $ I \\otimes R_\\phi $\n",
    "\n",
    "$$ I \\otimes R_\\phi = \\begin{bmatrix}  1 & 0 \\\\ 0 & 1 \\end{bmatrix}\\otimes \\begin{bmatrix}  1 & 0 \\\\ 0 & e^{i\\phi}\\end{bmatrix} = \\begin{bmatrix} 1 & 0 & 0 & 0 \\\\ 0 & e^{i\\phi} & 0 & 0 \\\\ 0 & 0 & 1 & 0 \\\\ 0 & 0 & 0 & e^{i\\phi}\\end{bmatrix}$$\n",
    "\n",
    "We can allow for a shift by a global phase, so by setting $\\phi = 2V_0 \\Delta t$, we effectively achieve the potential shown. This would be equivalent to having peaks in the $|01 \\rangle, |11 \\rangle$ spots."
   ]
  },
  {
   "cell_type": "code",
   "execution_count": 42,
   "metadata": {},
   "outputs": [
    {
     "data": {
      "text/html": [
       "<pre style=\"word-wrap: normal;white-space: pre;background: #fff0;line-height: 1.1;font-family: &quot;Courier New&quot;,Courier,monospace\">                   ┌───┐ ░ ┌─────────────┐           ░ ┌───┐              ░ »\n",
       "q12_0: ──────■─────┤ H ├─░─┤ RZ(-1.9739) ├──■────────░─┤ H ├─■────────────░─»\n",
       "       ┌───┐ │pi/2 └───┘ ░ ├─────────────┴┐ │1.9739  ░ └───┘ │-pi/2 ┌───┐ ░ »\n",
       "q12_1: ┤ H ├─■───────────░─┤ RZ(-0.49348) ├─■────────░───────■──────┤ H ├─░─»\n",
       "       └───┘             ░ └──────────────┘          ░              └───┘ ░ »\n",
       "c12_0: ═════════════════════════════════════════════════════════════════════»\n",
       "                                                                            »\n",
       "c12_1: ═════════════════════════════════════════════════════════════════════»\n",
       "                                                                            »\n",
       "«                ┌─┐   \n",
       "«q12_0: ─────────┤M├───\n",
       "«       ┌───────┐└╥┘┌─┐\n",
       "«q12_1: ┤ RZ(4) ├─╫─┤M├\n",
       "«       └───────┘ ║ └╥┘\n",
       "«c12_0: ══════════╩══╬═\n",
       "«                    ║ \n",
       "«c12_1: ═════════════╩═\n",
       "«                      </pre>"
      ],
      "text/plain": [
       "                   ┌───┐ ░ ┌─────────────┐           ░ ┌───┐              ░ »\n",
       "q12_0: ──────■─────┤ H ├─░─┤ RZ(-1.9739) ├──■────────░─┤ H ├─■────────────░─»\n",
       "       ┌───┐ │pi/2 └───┘ ░ ├─────────────┴┐ │1.9739  ░ └───┘ │-pi/2 ┌───┐ ░ »\n",
       "q12_1: ┤ H ├─■───────────░─┤ RZ(-0.49348) ├─■────────░───────■──────┤ H ├─░─»\n",
       "       └───┘             ░ └──────────────┘          ░              └───┘ ░ »\n",
       "c12_0: ═════════════════════════════════════════════════════════════════════»\n",
       "                                                                            »\n",
       "c12_1: ═════════════════════════════════════════════════════════════════════»\n",
       "                                                                            »\n",
       "«                ┌─┐   \n",
       "«q12_0: ─────────┤M├───\n",
       "«       ┌───────┐└╥┘┌─┐\n",
       "«q12_1: ┤ RZ(4) ├─╫─┤M├\n",
       "«       └───────┘ ║ └╥┘\n",
       "«c12_0: ══════════╩══╬═\n",
       "«                    ║ \n",
       "«c12_1: ═════════════╩═\n",
       "«                      "
      ]
     },
     "execution_count": 42,
     "metadata": {},
     "output_type": "execute_result"
    }
   ],
   "source": [
    "# We will now try this using a potential\n",
    "\n",
    "# Using Aden's notes, I will try a free particle simulation\n",
    "\n",
    "def V(qc, v_0, delta_t):\n",
    "    qc.rz(2*v_0*delta_t, 1) # check to make sure you're applying this to the correct place\n",
    "    return qc\n",
    "\n",
    "delta_t = 1 / 5\n",
    "theta1 = -m.pi*m.pi*delta_t\n",
    "theta2 = -m.pi*m.pi*delta_t/4\n",
    "theta3 = m.pi*m.pi*delta_t\n",
    "v_0 = 10\n",
    "\n",
    "\n",
    "\n",
    "# Initializing the circuit\n",
    "qr = QuantumRegister(2) #the qubits needed\n",
    "cr = ClassicalRegister(2) #for the measurement\n",
    "qc2 = QuantumCircuit(qr, cr) #creating the quantum circuit\n",
    "\n",
    "F(qc2)\n",
    "D(qc2, theta1, theta2, theta3)\n",
    "F_inv(qc2)\n",
    "V(qc2, v_0, delta_t)\n",
    "qc2.measure( qr , cr )\n",
    "\n",
    "qc2.draw()"
   ]
  },
  {
   "cell_type": "code",
   "execution_count": 44,
   "metadata": {},
   "outputs": [
    {
     "data": {
      "image/png": "[encoded data removed]",
      "text/plain": [
       "<Figure size 504x360 with 1 Axes>"
      ]
     },
     "execution_count": 44,
     "metadata": {},
     "output_type": "execute_result"
    }
   ],
   "source": [
    "\n",
    "backend = BasicAer.get_backend('qasm_simulator') #'statevector_simulator' doesn't seem to return the right result\n",
    "counts = execute(qc2, backend, shots=1024).result().get_counts()\n",
    "\n",
    "\"\"\"\n",
    "vector = np.zeros(len(counts))\n",
    "\n",
    "ordering = {'00': 0, '01': 1, '10':2, '11':3}\n",
    "for key in counts.keys():\n",
    "    print(key) #printing the key to check the order\n",
    "    vector[ordering[key]] = counts[key]\n",
    "    \n",
    "vector = vector / 1024\n",
    "print(vector)\n",
    "\n",
    "density_matrix = np.outer(vector, vector)\n",
    "print(density_matrix)\n",
    "\"\"\"\n",
    "\n",
    "plot_histogram(counts)"
   ]
  },
  {
   "cell_type": "markdown",
   "metadata": {},
   "source": [
    "## References\n",
    "\n",
    "https://qiskit.org/textbook/ch-algorithms/quantum-fourier-transform.html\n",
    "\n",
    "https://arxiv.org/pdf/1712.07326.pdf\n"
   ]
  },
  {
   "cell_type": "markdown",
   "metadata": {},
   "source": [
    "## Trying more versions"
   ]
  },
  {
   "cell_type": "code",
   "execution_count": null,
   "metadata": {},
   "outputs": [],
   "source": []
  },
  {
   "cell_type": "code",
   "execution_count": null,
   "metadata": {},
   "outputs": [],
   "source": []
  },
  {
   "cell_type": "markdown",
   "metadata": {},
   "source": [
    "## TRying https://arxiv.org/pdf/1202.1536.pdf\n",
    "\n"
   ]
  },
  {
   "cell_type": "code",
   "execution_count": null,
   "metadata": {},
   "outputs": [],
   "source": []
  },
  {
   "cell_type": "code",
   "execution_count": null,
   "metadata": {},
   "outputs": [],
   "source": []
  },
  {
   "cell_type": "code",
   "execution_count": null,
   "metadata": {},
   "outputs": [],
   "source": []
  }
 ],
 "metadata": {
  "kernelspec": {
   "display_name": "Python 3",
   "language": "python",
   "name": "python3"
  },
  "language_info": {
   "codemirror_mode": {
    "name": "ipython",
    "version": 3
   },
   "file_extension": ".py",
   "mimetype": "text/x-python",
   "name": "python",
   "nbconvert_exporter": "python",
   "pygments_lexer": "ipython3",
   "version": "3.7.7"
  }
 },
 "nbformat": 4,
 "nbformat_minor": 4
}
