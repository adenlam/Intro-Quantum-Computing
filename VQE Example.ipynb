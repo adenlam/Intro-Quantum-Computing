{
 "cells": [
  {
   "cell_type": "markdown",
   "metadata": {},
   "source": [
    "# VQE Example\n",
    "\n",
    "Here we present a very simple example of VQE using qiskit.\n",
    "\n",
    "We use the Hamiltonian: $$ H = \\sigma^z = \\begin{bmatrix} 1 & 0 \\\\ 0 & -1 \\end{bmatrix} $$\n",
    "\n",
    "For optimization, we present a very naive brute force method. We will graph all possible values in an interval given a step size, and then use np.amin() to find the minimum value.\n"
   ]
  },
  {
   "cell_type": "code",
   "execution_count": 40,
   "metadata": {},
   "outputs": [
    {
     "name": "stdout",
     "output_type": "stream",
     "text": [
      "{'qiskit-terra': '0.14.1', 'qiskit-aer': '0.5.2', 'qiskit-ignis': '0.3.0', 'qiskit-ibmq-provider': '0.7.2', 'qiskit-aqua': '0.7.1', 'qiskit': '0.19.3'}\n"
     ]
    }
   ],
   "source": [
    "import numpy as np\n",
    "import math as m\n",
    "from qiskit import QuantumCircuit, QuantumRegister, ClassicalRegister, execute, BasicAer, IBMQ\n",
    "from qiskit.visualization import plot_histogram, plot_bloch_multivector\n",
    "from qiskit.extensions import Initialize\n",
    "import matplotlib.pyplot as plt\n",
    "#from qiskit_textbook.tools import random_state, array_to_latex # This import isn't working for me\n",
    "\n",
    "import qiskit\n",
    "print(qiskit.__qiskit_version__) # I add this so we know what versions are being used"
   ]
  },
  {
   "cell_type": "code",
   "execution_count": 54,
   "metadata": {},
   "outputs": [],
   "source": [
    "H = np.array([[1,0],[0,-1]]) # our Hamiltonian is just the sigma^z matrix.\n",
    "# It seems like they never actually use H, even though they program it in?\n",
    "\n",
    "def ansatz(param, qc): \n",
    "    # This is applied in expectation, and it is assumed to be applied on a |0> qubit\n",
    "    # Sets theta = param, and the next two to 0. Last argument is the qubit number\n",
    "    qc.u3(param, 0, 0, 0) \n",
    "    \n",
    "    return\n",
    "\n",
    "\n",
    "def expectation(param, shots_number = 1024):\n",
    "    # first, we run the quantum circuit\n",
    "    # Then, using the resulting measurement, we use the numbers to calculate the expectation value\n",
    "    # This function is hard-coded for a specific H. (I may change this later)\n",
    "    # Since H = sigma^z, let's assume that we are in the z-basis. Then, we need only find the amplitudes of being \n",
    "    # in |0> and |1>. \n",
    "    # <H> = (Counts(0) - Counts(1)) / Normalization\n",
    "    \n",
    "    # Creating the circuit\n",
    "    q = QuantumRegister(1)\n",
    "    c = ClassicalRegister(1)\n",
    "    qc = QuantumCircuit(q, c)\n",
    "    \n",
    "    ansatz(param, qc) # Applying the ansatz preparation on a given |0>\n",
    "    qc.measure(0,0) # measures onto the classical registry\n",
    "    \n",
    "    # print(qc.draw()) # prints a drawing of the circuit\n",
    "    \n",
    "    backend = BasicAer.get_backend('qasm_simulator')\n",
    "    counts = execute(qc, backend, shots=shots_number).result().get_counts() # executs the job\n",
    "    #plot_histogram(counts) # This would show the plot\n",
    "    \n",
    "    \n",
    "    # I use if/else statements to avoid key errors if we are 100% in one state.\n",
    "    if ('0' in counts.keys()):\n",
    "        freq_0 = counts['0'] / shots_number\n",
    "    else:\n",
    "        freq_0 = 0\n",
    "        \n",
    "    if ('1' in counts.keys()):\n",
    "        freq_1 = counts['1'] / shots_number\n",
    "    else:\n",
    "        freq_1 = 0\n",
    "    \n",
    "    #print(freq_0)\n",
    "    #print(freq_1)\n",
    "    \n",
    "    exp = freq_0 - freq_1 # This can be seen from <psi | H | psi>\n",
    "    \n",
    "    return exp\n",
    "\n",
    "def grid_search():\n",
    "    # Grid search is just one of many optimization functions we can use. \n",
    "    return\n",
    "\n",
    "def brute_force(step_size, min_theta, max_theta):\n",
    "    # This is an extremely naive optimization method, but I am using it return a graph\n",
    "    # We will pick a step size, start at min_theta, and work all the way to the max_theta.\n",
    "    # This really only works because our ansatz is a one-parameter wave function\n",
    "    \n",
    "    thetas = np.arange(min_theta, max_theta, step_size)\n",
    "    expectations = np.zeros(np.size(thetas)) # creating a zero array of equal length\n",
    "    \n",
    "    i = 0 \n",
    "    while i < np.size(thetas):\n",
    "        expectations[i] = expectation(thetas[i])\n",
    "        i += 1\n",
    "        \n",
    "\n",
    "    plt.scatter(thetas, expectations)\n",
    "    min_value = np.amin(expectations)\n",
    "    min_index = np.where(expectations == min_value)[0][0] # returns the index of the first instance of the minimum value\n",
    "    opt_theta = thetas[min_index]\n",
    "    \n",
    "    print(\"The minimum expectation value is \" + str(min_value) + \", which occurs at position \"\n",
    "          + str(min_index) + \" and corresponds to theta = \" + str(opt_theta))\n",
    "    return opt_theta, min_value\n",
    "    \n",
    "    "
   ]
  },
  {
   "cell_type": "code",
   "execution_count": 55,
   "metadata": {},
   "outputs": [
    {
     "name": "stdout",
     "output_type": "stream",
     "text": [
      "The minimum expectation value is -1.0, which occurs at position 10 and corresponds to theta = 3.141592653589793\n"
     ]
    },
    {
     "data": {
      "text/plain": [
       "(3.141592653589793, -1.0)"
      ]
     },
     "execution_count": 55,
     "metadata": {},
     "output_type": "execute_result"
    },
    {
     "data": {
      "image/png": "[encoded data removed]",
      "text/plain": [
       "<Figure size 432x288 with 1 Axes>"
      ]
     },
     "metadata": {
      "needs_background": "light"
     },
     "output_type": "display_data"
    }
   ],
   "source": [
    "brute_force(m.pi/10, 0.0, 2*m.pi)"
   ]
  },
  {
   "cell_type": "markdown",
   "metadata": {},
   "source": [
    "# NOTES\n",
    "\n",
    "one issue concerned circuit copies. in Brute force, we call expectation and make a new qc every time, so theres no need"
   ]
  },
  {
   "cell_type": "code",
   "execution_count": null,
   "metadata": {},
   "outputs": [],
   "source": []
  }
 ],
 "metadata": {
  "kernelspec": {
   "display_name": "Python 3",
   "language": "python",
   "name": "python3"
  },
  "language_info": {
   "codemirror_mode": {
    "name": "ipython",
    "version": 3
   },
   "file_extension": ".py",
   "mimetype": "text/x-python",
   "name": "python",
   "nbconvert_exporter": "python",
   "pygments_lexer": "ipython3",
   "version": "3.7.7"
  }
 },
 "nbformat": 4,
 "nbformat_minor": 4
}
