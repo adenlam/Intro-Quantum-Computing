{
 "cells": [
  {
   "cell_type": "markdown",
   "metadata": {},
   "source": [
    "# Quantum Teleportation Example (Classical Simulation)\n",
    "\n",
    "This notebook displays an example of Quantum Teleportation, done on the quantum computer simulator.\n",
    "\n",
    "Here's the premise: Alice and Bob are a far distance apart, but they each hold one half of an entangled Bell State. They also have a classical channel of communication (maybe like text messaging or a phone call). \n",
    "\n",
    "Alice has a state $|\\psi \\rangle$ that she would like to teleport to Bob. She can do so with two gate operations, a quick (classically communicated) phone call, and classical control gates.\n",
    "\n",
    "Alice will apply a CNOT gate between the state $| \\psi \\rangle$ and her half of the Bell State. She will then apply a Hadamard gate to the state $| \\psi \\rangle$. Then, Alice will measure the two qubit in her possesion. They will return one of four combinations: 00, 01, 10, or 11. She quickly calls Bob and lets him know which of the four combinations she measured, and Bob will adjust his qubit accordingly. These correspond to classical control operations.\n",
    "\n",
    "Let's mention a few physical things. Firstly, we may wonder why Alice applying the CNOT and Hadamanrd between her half of the Bell state and the state $| \\psi \\rangle$ seems to send the information contained in $| \\psi \\rangle$ to Bob. This is because the Bell State is entangled. By applying operations on her half of the Bell State, and by measuring it, she also affects Bob's qubit, the other half of the Bell State.\n",
    "\n",
    "Also, we may notice that Alice no longer posses any qubit with the information of $| \\psi \\rangle$. After measurement, hre qubits have collapsed into classical bits, measuring only 0 or 1. This is why we call it quantum teleportation! Alice no longer has her state, but Bob does! This result follows from the No Cloning Theorem.\n",
    "\n",
    "\n",
    "## Coding the Teleportation Example\n",
    "\n",
    "Let's first start by importing the necessary packages. \n"
   ]
  },
  {
   "cell_type": "code",
   "execution_count": 2,
   "metadata": {},
   "outputs": [
    {
     "name": "stdout",
     "output_type": "stream",
     "text": [
      "{'qiskit-terra': '0.14.1', 'qiskit-aer': '0.5.2', 'qiskit-ignis': '0.3.0', 'qiskit-ibmq-provider': '0.7.2', 'qiskit-aqua': '0.7.1', 'qiskit': '0.19.3'}\n"
     ]
    }
   ],
   "source": [
    "import numpy as np\n",
    "import math as m\n",
    "from qiskit import QuantumCircuit, QuantumRegister, ClassicalRegister, execute, BasicAer, IBMQ\n",
    "from qiskit.visualization import plot_histogram, plot_bloch_multivector\n",
    "from qiskit.extensions import Initialize\n",
    "#from qiskit_textbook.tools import random_state, array_to_latex # This import isn't working for me\n",
    "\n",
    "import qiskit\n",
    "print(qiskit.__qiskit_version__) # I add this so we know what versions are being used"
   ]
  },
  {
   "cell_type": "markdown",
   "metadata": {},
   "source": [
    "## Preparing the Circuit\n",
    "\n",
    "Next, we prepate our quantum and classical registries. Think of this as declaring how many qubits and classical bits we need. We then combine them all into one circuit. In this example, qubit 0 is $| \\psi \\langle$, qubit 1 is Alice's half of the Bell state, and qubit 2 is Bob's half of the Bell state. The first two classical registries, crz and crx, will be used for classical control operations. The final registry, result, is where we will measure Bob's final state."
   ]
  },
  {
   "cell_type": "code",
   "execution_count": 14,
   "metadata": {},
   "outputs": [
    {
     "name": "stdout",
     "output_type": "stream",
     "text": [
      "Done creating\n"
     ]
    }
   ],
   "source": [
    "# Next, we must prepare the quantum and classical registries, and create the circuit\n",
    "\n",
    "qr = QuantumRegister(3) # Creating a quantum registr with 3 qubits\n",
    "crz = ClassicalRegister(1) # creating one classical registry. Named CRZ since this is the one connected to Control-Z\n",
    "crx = ClassicalRegister(1) # creating another classical registry. Named CRX because this is the one connected to Control-X\n",
    "result = ClassicalRegister(1) # This is where the final measurement of Bob's Qubit will go\n",
    "\n",
    "Tel_Circuit = QuantumCircuit(qr, crz, crx, result) #Creates the circuit: It has 3 qubits and 3 classical bits.\n",
    "\n",
    "print(\"Done creating\")"
   ]
  },
  {
   "cell_type": "markdown",
   "metadata": {},
   "source": [
    "\n",
    "\n",
    "This next cell prepares all the portions of the teleportation circuit. \n",
    "\n",
    "First, we prepare $| \\psi \\rangle$, the state we are teleporting. We then prepare the bell state between Alice and Bob. Next, we apply the CNOT and Hadamard on Alice's qubits. Finally, we take our measurements. (The corrections are done in the next cell.)"
   ]
  },
  {
   "cell_type": "code",
   "execution_count": 15,
   "metadata": {},
   "outputs": [
    {
     "name": "stdout",
     "output_type": "stream",
     "text": [
      "Prepare the state we are teleporting\n",
      "Bell State Preparation\n",
      "      ┌───────────┐     \n",
      "q2_0: ┤ U3(0,0,0) ├─────\n",
      "      └───┬───┬───┘     \n",
      "q2_1: ────┤ H ├──────■──\n",
      "          └───┘    ┌─┴─┐\n",
      "q2_2: ─────────────┤ X ├\n",
      "                   └───┘\n",
      "c6_0: ══════════════════\n",
      "                        \n",
      "c7_0: ══════════════════\n",
      "                        \n",
      "c8_0: ══════════════════\n",
      "                        \n",
      "\n",
      "Preparing Alice's Qubits\n",
      "      ┌───────────┐      ░      ┌───┐\n",
      "q2_0: ┤ U3(0,0,0) ├──────░───■──┤ H ├\n",
      "      └───┬───┬───┘      ░ ┌─┴─┐└───┘\n",
      "q2_1: ────┤ H ├──────■───░─┤ X ├─────\n",
      "          └───┘    ┌─┴─┐ ░ └───┘     \n",
      "q2_2: ─────────────┤ X ├─░───────────\n",
      "                   └───┘ ░           \n",
      "c6_0: ═══════════════════════════════\n",
      "                                     \n",
      "c7_0: ═══════════════════════════════\n",
      "                                     \n",
      "c8_0: ═══════════════════════════════\n",
      "                                     \n",
      "\n",
      "Measurement and Classical Message Sending\n",
      "      ┌───────────┐      ░      ┌───┐ ░ ┌─┐   \n",
      "q2_0: ┤ U3(0,0,0) ├──────░───■──┤ H ├─░─┤M├───\n",
      "      └───┬───┬───┘      ░ ┌─┴─┐└───┘ ░ └╥┘┌─┐\n",
      "q2_1: ────┤ H ├──────■───░─┤ X ├──────░──╫─┤M├\n",
      "          └───┘    ┌─┴─┐ ░ └───┘      ░  ║ └╥┘\n",
      "q2_2: ─────────────┤ X ├─░────────────░──╫──╫─\n",
      "                   └───┘ ░            ░  ║  ║ \n",
      "c6_0: ═══════════════════════════════════╩══╬═\n",
      "                                            ║ \n",
      "c7_0: ══════════════════════════════════════╩═\n",
      "                                              \n",
      "c8_0: ════════════════════════════════════════\n",
      "                                              \n"
     ]
    }
   ],
   "source": [
    "# It's possible to do this all with functions, but I'd perfer to directly apply the gates.\n",
    "\n",
    "print(\"Prepare the state we are teleporting\")\n",
    "theta = 0.0\n",
    "phi = 0.0\n",
    "lam = 0.0\n",
    "\n",
    "Tel_Circuit.u3(theta, phi, lam, 0) #The last value is the quantum registry we are applying the gate to\n",
    "\n",
    "print(\"Bell State Preparation\")\n",
    "Tel_Circuit.h(1)\n",
    "Tel_Circuit.cx(1,2)\n",
    "print(Tel_Circuit.draw())\n",
    "\n",
    "\n",
    "print(\"\")\n",
    "\n",
    "print(\"Preparing Alice's Qubits\")\n",
    "Tel_Circuit.barrier()\n",
    "Tel_Circuit.cx(0,1)\n",
    "Tel_Circuit.h(0)\n",
    "print(Tel_Circuit.draw())\n",
    "\n",
    "\n",
    "print(\"\")\n",
    "\n",
    "print(\"Measurement and Classical Message Sending\")\n",
    "Tel_Circuit.barrier()\n",
    "Tel_Circuit.measure(0,0) #For measure, the first input is the quantum registry number, and the second is the classical\n",
    "Tel_Circuit.measure(1,1)\n",
    "print(Tel_Circuit.draw())"
   ]
  },
  {
   "cell_type": "markdown",
   "metadata": {},
   "source": [
    "## Applying the Correction\n",
    "\n",
    "Once we take our measurement of Alice's qubit and the sending qubit, we must apply a correction.\n",
    "\n",
    "There are a few possibilities, depending on what we measure. \n",
    "\n",
    "If we measure 00, we do nothing.\n",
    "\n",
    "If we measure 01, we apply an X gate.\n",
    "\n",
    "If we measure 10, we apply a Z gate.\n",
    "\n",
    "If we measure 11, we apply a Z and an X gate.\n"
   ]
  },
  {
   "cell_type": "code",
   "execution_count": 16,
   "metadata": {},
   "outputs": [
    {
     "name": "stdout",
     "output_type": "stream",
     "text": [
      "      ┌───────────┐      ░      ┌───┐ ░ ┌─┐    ░                ░    \n",
      "q2_0: ┤ U3(0,0,0) ├──────░───■──┤ H ├─░─┤M├────░────────────────░────\n",
      "      └───┬───┬───┘      ░ ┌─┴─┐└───┘ ░ └╥┘┌─┐ ░                ░    \n",
      "q2_1: ────┤ H ├──────■───░─┤ X ├──────░──╫─┤M├─░────────────────░────\n",
      "          └───┘    ┌─┴─┐ ░ └───┘      ░  ║ └╥┘ ░  ┌───┐  ┌───┐  ░ ┌─┐\n",
      "q2_2: ─────────────┤ X ├─░────────────░──╫──╫──░──┤ X ├──┤ Z ├──░─┤M├\n",
      "                   └───┘ ░            ░  ║  ║  ░  └─┬─┘  └─┬─┘  ░ └╥┘\n",
      "                                         ║  ║       │   ┌──┴──┐    ║ \n",
      "c6_0: ═══════════════════════════════════╩══╬═══════╪═══╡ = 1 ╞════╬═\n",
      "                                            ║    ┌──┴──┐└─────┘    ║ \n",
      "c7_0: ══════════════════════════════════════╩════╡ = 1 ╞═══════════╬═\n",
      "                                                 └─────┘           ║ \n",
      "c8_0: ═════════════════════════════════════════════════════════════╩═\n",
      "                                                                     \n"
     ]
    }
   ],
   "source": [
    "Tel_Circuit.barrier()\n",
    "Tel_Circuit.x(2).c_if(crx, 1) \n",
    "Tel_Circuit.z(2).c_if(crz, 1)\n",
    "\n",
    "Tel_Circuit.barrier()\n",
    "Tel_Circuit.measure(2,2) # I add a measurement here to measure Bob's qubit\n",
    "\n",
    "# the extension, .c_if(classical_registry, value) is used to apply classical control\n",
    "\n",
    "print(Tel_Circuit.draw())"
   ]
  },
  {
   "cell_type": "code",
   "execution_count": 18,
   "metadata": {},
   "outputs": [
    {
     "data": {
      "image/png": "[encoded data removed]",
      "text/plain": [
       "<Figure size 504x360 with 1 Axes>"
      ]
     },
     "execution_count": 18,
     "metadata": {},
     "output_type": "execute_result"
    }
   ],
   "source": [
    "# Let's run the circuit\n",
    "\n",
    "backend = BasicAer.get_backend('qasm_simulator') #'statevector_simulator' doesn't seem to return the right result\n",
    "counts = execute(Tel_Circuit, backend, shots=1024).result().get_counts()\n",
    "plot_histogram(counts)\n",
    "\n",
    "\n"
   ]
  },
  {
   "cell_type": "markdown",
   "metadata": {},
   "source": [
    "## Conclusion\n",
    "\n",
    "Note that the results are: 000, 001, 010, 011. It is best to read it as: 0(00), 0(01), 0(10), 0(11). The latter two numbers represent the two measurements Alice makes. Notice that when theta, lambda, and phi equals 0, the first measurement returns 0 every time. This means that Bob's qubit is returned as a 0, which is what we expect!"
   ]
  },
  {
   "cell_type": "markdown",
   "metadata": {},
   "source": [
    "## References:\n",
    "\n",
    "https://qiskit.org/textbook/ch-algorithms/teleportation.html\n"
   ]
  },
  {
   "cell_type": "code",
   "execution_count": null,
   "metadata": {},
   "outputs": [],
   "source": []
  }
 ],
 "metadata": {
  "kernelspec": {
   "display_name": "Python 3",
   "language": "python",
   "name": "python3"
  },
  "language_info": {
   "codemirror_mode": {
    "name": "ipython",
    "version": 3
   },
   "file_extension": ".py",
   "mimetype": "text/x-python",
   "name": "python",
   "nbconvert_exporter": "python",
   "pygments_lexer": "ipython3",
   "version": "3.7.7"
  }
 },
 "nbformat": 4,
 "nbformat_minor": 4
}
