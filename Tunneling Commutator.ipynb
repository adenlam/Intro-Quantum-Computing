{
 "cells": [
  {
   "cell_type": "code",
   "execution_count": 69,
   "metadata": {},
   "outputs": [],
   "source": [
    "from functools import reduce\n",
    "\n",
    "import matplotlib.pyplot as plt\n",
    "import numpy as np\n",
    "import scipy as sc\n",
    "import qutip as qt\n",
    "from qutip.qip.algorithms.qft import qft"
   ]
  },
  {
   "cell_type": "code",
   "execution_count": 15,
   "metadata": {},
   "outputs": [],
   "source": [
    "q = qft(2).full()\n",
    "q_dag = qft(2).inv().full()\n",
    "\n",
    "p2 = np.diag(np.square([0, np.pi/2, np.pi, -np.pi/2]))"
   ]
  },
  {
   "cell_type": "markdown",
   "metadata": {},
   "source": [
    "https://arxiv.org/pdf/1202.1536.pdf"
   ]
  },
  {
   "cell_type": "code",
   "execution_count": 53,
   "metadata": {},
   "outputs": [],
   "source": [
    "K = q @ p2 @ q_dag\n",
    "V = np.diag([10, -10, 10, -10])"
   ]
  },
  {
   "cell_type": "code",
   "execution_count": 82,
   "metadata": {},
   "outputs": [],
   "source": [
    "def total_coeff_diff(eH, eH_Trot):\n",
    "    a = np.ndarray.flatten(np.abs(eH * qt.basis(4, 1)))\n",
    "    b = np.ndarray.flatten(np.abs(eH_Trot * qt.basis(4, 1)))\n",
    "    return sum(abs(a - b))"
   ]
  },
  {
   "cell_type": "code",
   "execution_count": 80,
   "metadata": {},
   "outputs": [
    {
     "data": {
      "text/plain": [
       "([<matplotlib.axis.XTick at 0x128bdeca0>,\n",
       "  <matplotlib.axis.XTick at 0x128bde910>,\n",
       "  <matplotlib.axis.XTick at 0x128b9cf70>,\n",
       "  <matplotlib.axis.XTick at 0x128bfc1f0>],\n",
       " [Text(0, 0, '0'), Text(0, 0, '1'), Text(0, 0, '2'), Text(0, 0, '3')])"
      ]
     },
     "execution_count": 80,
     "metadata": {},
     "output_type": "execute_result"
    },
    {
     "data": {
      "image/png": "[encoded data removed]",
      "text/plain": [
       "<Figure size 432x288 with 1 Axes>"
      ]
     },
     "metadata": {
      "needs_background": "light"
     },
     "output_type": "display_data"
    }
   ],
   "source": [
    "dt = 1/10\n",
    "eH = sc.linalg.expm(-1j * K)\n",
    "eH_Trot_1 = sc.linalg.expm(-1j * dt * K)\n",
    "eH_Trot = reduce(np.matmul, [eH_Trot_1] * 10)\n",
    "\n",
    "plt.bar([x - 0.2 for x in range(4)], np.ndarray.flatten(np.abs(eH * qt.basis(4, 1))), width=0.4)\n",
    "plt.bar([x + 0.2 for x in range(4)], np.ndarray.flatten(np.abs(eH_Trot * qt.basis(4, 1))), width=0.4)\n",
    "plt.xticks(range(4), range(4))"
   ]
  },
  {
   "cell_type": "code",
   "execution_count": 84,
   "metadata": {},
   "outputs": [
    {
     "data": {
      "text/plain": [
       "([<matplotlib.axis.XTick at 0x128fa1c70>,\n",
       "  <matplotlib.axis.XTick at 0x128fa1c40>,\n",
       "  <matplotlib.axis.XTick at 0x128b96550>,\n",
       "  <matplotlib.axis.XTick at 0x128fd0d30>],\n",
       " [Text(0, 0, '0'), Text(0, 0, '1'), Text(0, 0, '2'), Text(0, 0, '3')])"
      ]
     },
     "execution_count": 84,
     "metadata": {},
     "output_type": "execute_result"
    },
    {
     "data": {
      "image/png": "[encoded data removed]",
      "text/plain": [
       "<Figure size 432x288 with 1 Axes>"
      ]
     },
     "metadata": {
      "needs_background": "light"
     },
     "output_type": "display_data"
    }
   ],
   "source": [
    "dt = 1/10\n",
    "eH = sc.linalg.expm(-1j * (K + V))\n",
    "eH_Trot_1 = sc.linalg.expm(-1j * dt * V) @ sc.linalg.expm(-1j * dt * K)\n",
    "eH_Trot = reduce(np.matmul, [eH_Trot_1] * 10)\n",
    "\n",
    "plt.bar([x - 0.2 for x in range(4)], np.ndarray.flatten(np.abs(eH * qt.basis(4, 1))), width=0.4)\n",
    "plt.bar([x + 0.2 for x in range(4)], np.ndarray.flatten(np.abs(eH_Trot * qt.basis(4, 1))), width=0.4)\n",
    "plt.xticks(range(4), range(4))"
   ]
  },
  {
   "cell_type": "code",
   "execution_count": 100,
   "metadata": {},
   "outputs": [
    {
     "data": {
      "text/plain": [
       "Text(0.5, 0, 'Num Trotterization Steps')"
      ]
     },
     "execution_count": 100,
     "metadata": {},
     "output_type": "execute_result"
    },
    {
     "data": {
      "image/png": "[encoded data removed]",
      "text/plain": [
       "<Figure size 432x288 with 1 Axes>"
      ]
     },
     "metadata": {
      "needs_background": "light"
     },
     "output_type": "display_data"
    }
   ],
   "source": [
    "diffs = []\n",
    "num_steps = range(100, 0, -1)\n",
    "for steps in num_steps:\n",
    "    dt = 1/steps\n",
    "    eH = sc.linalg.expm(-1j * (K + V))\n",
    "    eH_Trot_1 = sc.linalg.expm(-1j * dt * V) @ sc.linalg.expm(-1j * dt * K)\n",
    "    eH_Trot = reduce(np.matmul, [eH_Trot_1] * steps)\n",
    "    diffs.append(total_coeff_diff(eH, eH_Trot))\n",
    "plt.plot(num_steps, diffs)\n",
    "plt.yscale(\"log\")\n",
    "plt.ylabel(\"Probability Diff\")\n",
    "plt.xlabel(\"Num Trotterization Steps\")"
   ]
  },
  {
   "cell_type": "code",
   "execution_count": null,
   "metadata": {},
   "outputs": [],
   "source": []
  }
 ],
 "metadata": {
  "kernelspec": {
   "display_name": "Python 3",
   "language": "python",
   "name": "python3"
  },
  "language_info": {
   "codemirror_mode": {
    "name": "ipython",
    "version": 3
   },
   "file_extension": ".py",
   "mimetype": "text/x-python",
   "name": "python",
   "nbconvert_exporter": "python",
   "pygments_lexer": "ipython3",
   "version": "3.8.4"
  }
 },
 "nbformat": 4,
 "nbformat_minor": 4
}
