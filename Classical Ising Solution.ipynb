{
 "cells": [
  {
   "cell_type": "markdown",
   "metadata": {},
   "source": [
    "# To Do\n",
    "- Add more text to describe what is happening\n",
    "\n",
    "# Classical Solution to the Ising Model\n",
    "\n",
    "This notebook provides a classical solution to the Ising Model. We use the simple approach of exact diagonalization since we are assuming $N$ is relatively small."
   ]
  },
  {
   "cell_type": "code",
   "execution_count": 1,
   "metadata": {},
   "outputs": [],
   "source": [
    "import numpy as np\n",
    "import matplotlib.pyplot as plt"
   ]
  },
  {
   "cell_type": "code",
   "execution_count": 17,
   "metadata": {},
   "outputs": [],
   "source": [
    "# Creating operators for the model\n",
    "Sx = np.array([[0,1],\n",
    "               [1,0]])\n",
    "Sz = np.array([[1,0],\n",
    "               [0,-1]])\n",
    "Id = np.array([[1,0],\n",
    "               [0,1]])"
   ]
  },
  {
   "cell_type": "code",
   "execution_count": 51,
   "metadata": {},
   "outputs": [
    {
     "data": {
      "image/png": "[encoded data removed]",
      "text/plain": [
       "<Figure size 432x288 with 1 Axes>"
      ]
     },
     "metadata": {
      "needs_background": "light"
     },
     "output_type": "display_data"
    }
   ],
   "source": [
    "# functions for creating the general operators for N sites\n",
    "\n",
    "def ZZ(N):\n",
    "    num_states = 2**N\n",
    "    ZZ_diag = np.zeros(num_states, dtype = int)\n",
    "    for col in range(num_states):\n",
    "        binary_list = state_list(col, N)\n",
    "        val = 0\n",
    "        for j in range(N-1):\n",
    "            val += (-1)**(binary_list[j] + binary_list[j+1])\n",
    "        ZZ_diag[col] = val\n",
    "    ZZ = np.diag(ZZ_diag)\n",
    "    return ZZ\n",
    "\n",
    "\n",
    "def X(N):    \n",
    "    num_states = 2**N\n",
    "    X = np.zeros( (num_states, num_states), dtype = int) # initializing the empty array\n",
    "    \n",
    "    for i in range(0,N): # N  not N-1. N because we iterate through all values\n",
    "        operator_list = [Id]* i + [Sx] + [Id]*(N-1-i) # list of the operators that we will iterate through when we Kronecker\n",
    "        full_operator = operator_list[0] # starting from the begining\n",
    "        for operator in operator_list[1:]: \n",
    "            # iterating through all the elements after the first and applying kronecker product\n",
    "            full_operator = np.kron(full_operator, operator) \n",
    "        X = X + full_operator\n",
    "    return X\n",
    "\n",
    "\n",
    "def Hamiltonian(h):\n",
    "    return -ZZ(N) - h*X(N)\n",
    "\n",
    "\n",
    "def state_list(i,N): # takes i, the state index, and N, the number of sites, to create a list representation in binary\n",
    "    binary_list = np.zeros(N, dtype = int)\n",
    "    for j in range(N):\n",
    "        binary_list[j] = (i//2**(N-1-j)) % 2\n",
    "    return binary_list\n",
    "\n",
    "\n",
    "def Ising_Energies(N, num_vals = 20):\n",
    "    # Values of g to use in calculating/plotting\n",
    "    h_vals = np.linspace(0, 10, num_vals)\n",
    "\n",
    "    # Create an empty table to store the results:\n",
    "    ground_state_E = np.zeros(np.size(h_vals))\n",
    "\n",
    "    for index, h in enumerate(h_vals): \n",
    "        H = Hamiltonian(h)\n",
    "        e, v = np.linalg.eigh(H) # exact diagonalization\n",
    "        ground_state_E[index] = np.amin(e)\n",
    "        \n",
    "\n",
    "    f, a = plt.subplots()\n",
    "    a.scatter(h_vals, ground_state_E)\n",
    "    a.set_xlabel('h');\n",
    "    a.set_ylabel('Energies');  \n",
    "    return\n",
    "\n",
    "\n",
    "Ising_Energies(4)"
   ]
  },
  {
   "cell_type": "code",
   "execution_count": 50,
   "metadata": {},
   "outputs": [
    {
     "data": {
      "image/png": "[encoded data removed]",
      "text/plain": [
       "<Figure size 432x288 with 1 Axes>"
      ]
     },
     "metadata": {
      "needs_background": "light"
     },
     "output_type": "display_data"
    }
   ],
   "source": [
    "# Some hard-coded constants\n",
    "\n",
    "N = 4 #number of sites\n",
    "Ising_Energies(N)"
   ]
  },
  {
   "cell_type": "markdown",
   "metadata": {},
   "source": [
    "## References\n",
    "\n",
    "This notebook has code taken from the in-class assignments from Perimeter Summer School 2020, Numerical Methods Lectures from Prof. Aaron Szasz\n",
    "\n"
   ]
  },
  {
   "cell_type": "code",
   "execution_count": null,
   "metadata": {},
   "outputs": [],
   "source": []
  }
 ],
 "metadata": {
  "kernelspec": {
   "display_name": "Python 3",
   "language": "python",
   "name": "python3"
  },
  "language_info": {
   "codemirror_mode": {
    "name": "ipython",
    "version": 3
   },
   "file_extension": ".py",
   "mimetype": "text/x-python",
   "name": "python",
   "nbconvert_exporter": "python",
   "pygments_lexer": "ipython3",
   "version": "3.7.7"
  }
 },
 "nbformat": 4,
 "nbformat_minor": 4
}
